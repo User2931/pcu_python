{
 "cells": [
  {
   "cell_type": "markdown",
   "metadata": {},
   "source": [
    "![nn](1.png)"
   ]
  },
  {
   "cell_type": "markdown",
   "metadata": {},
   "source": [
    "![nn](2.png)"
   ]
  },
  {
   "cell_type": "markdown",
   "metadata": {},
   "source": [
    "https://developers.naver.com/docs/clova/api/CFR/API_Guide.md#Overview"
   ]
  },
  {
   "cell_type": "code",
   "execution_count": null,
   "metadata": {},
   "outputs": [],
   "source": [
    "!pip install pillow"
   ]
  },
  {
   "cell_type": "code",
   "execution_count": null,
   "metadata": {},
   "outputs": [],
   "source": []
  },
  {
   "cell_type": "code",
   "execution_count": null,
   "metadata": {},
   "outputs": [],
   "source": [
    "!pip install requests"
   ]
  },
  {
   "cell_type": "code",
   "execution_count": null,
   "metadata": {},
   "outputs": [],
   "source": [
    "import matplotlib.pyplot as plt\n",
    "import matplotlib.image as mpimg\n",
    "%matplotlib inline"
   ]
  },
  {
   "cell_type": "code",
   "execution_count": null,
   "metadata": {},
   "outputs": [],
   "source": [
    "img = mpimg.imread('1.png')\n",
    "\n",
    "plt.figure(figsize=(10,8))\n",
    "plt.imshow(img)\n",
    "plt.show()"
   ]
  },
  {
   "cell_type": "code",
   "execution_count": null,
   "metadata": {},
   "outputs": [],
   "source": [
    "import requests"
   ]
  },
  {
   "cell_type": "code",
   "execution_count": null,
   "metadata": {},
   "outputs": [],
   "source": [
    "client_id = \"guNXoD62a25MMK2_7cT1\"\n",
    "client_secret = \"MYWC9jnZJ3\"\n",
    "\n",
    "url = \"https://openapi.naver.com/v1/vision/celebrity\"\n",
    "files = {'image':open('1.png','rb')}\n",
    "\n",
    "headers = {'X-Naver-Client-Id': client_id, 'X-Naver-Client-Secret':client_secret}\n",
    "\n",
    "response = requests.post(url, files=files, headers=headers)"
   ]
  },
  {
   "cell_type": "code",
   "execution_count": null,
   "metadata": {},
   "outputs": [],
   "source": [
    "import json"
   ]
  },
  {
   "cell_type": "code",
   "execution_count": null,
   "metadata": {},
   "outputs": [],
   "source": [
    "parsed = json.loads(response.text)\n",
    "print(json.dumps(parsed, indent=4, sort_keys=False, ensure_ascii=False))"
   ]
  },
  {
   "cell_type": "code",
   "execution_count": null,
   "metadata": {},
   "outputs": [],
   "source": [
    "url = \"https://openapi.naver.com/v1/vision/face\"\n",
    "files = {'image':open('1.png','rb')}\n",
    "\n",
    "headers = {'X-Naver-Client-Id': client_id, 'X-Naver-Client-Secret':client_secret}\n",
    "\n",
    "response = requests.post(url, files=files, headers=headers)\n",
    "parsed = json.loads(response.text)\n",
    "print(json.dumps(parsed, indent=4, sort_keys=False, ensure_ascii=False))"
   ]
  },
  {
   "cell_type": "code",
   "execution_count": null,
   "metadata": {},
   "outputs": [],
   "source": [
    "detect_result = parsed"
   ]
  },
  {
   "cell_type": "code",
   "execution_count": null,
   "metadata": {},
   "outputs": [],
   "source": [
    "detect_result.keys()"
   ]
  },
  {
   "cell_type": "code",
   "execution_count": null,
   "metadata": {},
   "outputs": [],
   "source": [
    "detect_result['faces']"
   ]
  },
  {
   "cell_type": "code",
   "execution_count": null,
   "metadata": {},
   "outputs": [],
   "source": [
    "detect_result['faces'][0]"
   ]
  },
  {
   "cell_type": "code",
   "execution_count": null,
   "metadata": {},
   "outputs": [],
   "source": [
    "detect_result['faces'][0]['roi']"
   ]
  },
  {
   "cell_type": "code",
   "execution_count": null,
   "metadata": {},
   "outputs": [],
   "source": [
    "detect_result['faces'][0]['gender']"
   ]
  },
  {
   "cell_type": "code",
   "execution_count": null,
   "metadata": {},
   "outputs": [],
   "source": [
    "detect_result['faces'][0]['age']"
   ]
  },
  {
   "cell_type": "code",
   "execution_count": null,
   "metadata": {},
   "outputs": [],
   "source": [
    "detect_result['faces'][0]['emotion']"
   ]
  },
  {
   "cell_type": "code",
   "execution_count": null,
   "metadata": {},
   "outputs": [],
   "source": [
    "x, y, w, h = detect_result['faces'][0]['roi'].values()\n",
    "gender, confidence = detect_result['faces'][0]['gender'].values()\n",
    "emotion, emotion_confidence = detect_result['faces'][0]['emotion'].values()\n",
    "age, age_confidence = detect_result['faces'][0]['age'].values()"
   ]
  },
  {
   "cell_type": "code",
   "execution_count": null,
   "metadata": {},
   "outputs": [],
   "source": [
    "annotation = gender+':'+str(confidence)+'\\n'+emotion+':'+str(emotion_confidence)"
   ]
  },
  {
   "cell_type": "code",
   "execution_count": null,
   "metadata": {},
   "outputs": [],
   "source": [
    "import matplotlib.patches as patches"
   ]
  },
  {
   "cell_type": "code",
   "execution_count": null,
   "metadata": {},
   "outputs": [],
   "source": [
    "img = mpimg.imread('1.png')\n",
    "\n",
    "fig, ax = plt.subplots(figsize=(10,10))\n",
    "ax.imshow(img)\n",
    "\n",
    "rect_face = patches.Rectangle((x,y),w,h, linewidth=5, edgecolor='r', facecolor='none')\n",
    "ax.add_patch(rect_face)\n",
    "\n",
    "plt.text(10,400, annotation, wrap=True, fontsize=17, color='white')\n",
    "plt.show()"
   ]
  },
  {
   "cell_type": "code",
   "execution_count": null,
   "metadata": {},
   "outputs": [],
   "source": [
    "img = mpimg.imread('1.png')\n",
    "\n",
    "fig, ax = plt.subplots(figsize=(14,10))\n",
    "ax.imshow(img)\n",
    "\n",
    "\n",
    "for each in detect_result['faces']:\n",
    "    \n",
    "    x, y, w, h = each['roi'].values()\n",
    "    gender, confidence = each['gender'].values()\n",
    "    emotion, emotion_confidence = each['emotion'].values()\n",
    "\n",
    "    rect_face = patches.Rectangle((x,y),w,h, linewidth=5, edgecolor='r', facecolor='none')\n",
    "    annotation = gender+':'+str(confidence)+'\\n'+emotion+':'+str(emotion_confidence)\n",
    "    plt.text(x,y+h+40, annotation, wrap=True, fontsize=17, color='white')\n",
    "    ax.add_patch(rect_face)\n",
    "\n",
    "    \n",
    "plt.show()"
   ]
  },
  {
   "cell_type": "code",
   "execution_count": null,
   "metadata": {},
   "outputs": [],
   "source": []
  }
 ],
 "metadata": {
  "kernelspec": {
   "display_name": "Python 3",
   "language": "python",
   "name": "python3"
  },
  "language_info": {
   "codemirror_mode": {
    "name": "ipython",
    "version": 3
   },
   "file_extension": ".py",
   "mimetype": "text/x-python",
   "name": "python",
   "nbconvert_exporter": "python",
   "pygments_lexer": "ipython3",
   "version": "3.8.5"
  }
 },
 "nbformat": 4,
 "nbformat_minor": 4
}
